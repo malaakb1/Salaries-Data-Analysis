{
  "nbformat": 4,
  "nbformat_minor": 0,
  "metadata": {
    "colab": {
      "provenance": [],
      "authorship_tag": "ABX9TyO4D5akDWSbp6kb4/RhxyAL",
      "include_colab_link": true
    },
    "kernelspec": {
      "name": "python3",
      "display_name": "Python 3"
    },
    "language_info": {
      "name": "python"
    }
  },
  "cells": [
    {
      "cell_type": "markdown",
      "metadata": {
        "id": "view-in-github",
        "colab_type": "text"
      },
      "source": [
        "<a href=\"https://colab.research.google.com/github/malaakb1/ShAI-Final/blob/main/ShAI_Task.ipynb\" target=\"_parent\"><img src=\"https://colab.research.google.com/assets/colab-badge.svg\" alt=\"Open In Colab\"/></a>"
      ]
    },
    {
      "cell_type": "code",
      "execution_count": 7,
      "metadata": {
        "colab": {
          "base_uri": "https://localhost:8080/"
        },
        "id": "GUIEiAgljjto",
        "outputId": "cf8fed09-3808-435c-ec9f-042d4ffeb391"
      },
      "outputs": [
        {
          "output_type": "stream",
          "name": "stdout",
          "text": [
            "The shape of dataset is =  (148654, 13)\n",
            "The data types of dataset's columns are :  Id                    int64\n",
            "EmployeeName         object\n",
            "JobTitle             object\n",
            "BasePay             float64\n",
            "OvertimePay         float64\n",
            "OtherPay            float64\n",
            "Benefits            float64\n",
            "TotalPay            float64\n",
            "TotalPayBenefits    float64\n",
            "Year                  int64\n",
            "Notes               float64\n",
            "Agency               object\n",
            "Status              float64\n",
            "dtype: object\n",
            "The sum of missing values in each column Id                       0\n",
            "EmployeeName             0\n",
            "JobTitle                 0\n",
            "BasePay                609\n",
            "OvertimePay              4\n",
            "OtherPay                 4\n",
            "Benefits             36163\n",
            "TotalPay                 0\n",
            "TotalPayBenefits         0\n",
            "Year                     0\n",
            "Notes               148654\n",
            "Agency                   0\n",
            "Status              148654\n",
            "dtype: int64\n"
          ]
        }
      ],
      "source": [
        "import pandas as pd\n",
        "url = 'https://raw.githubusercontent.com/malaakb1/ShAI-Final/main/Salaries.csv'\n",
        "df = pd.read_csv(url)\n",
        "# Basic Data Exploration:\n",
        "print(\"The shape of dataset is = \", df.shape)\n",
        "print(\"The data types of dataset's columns are : \", df.dtypes)\n",
        "print(\"The sum of missing values in each column\", df.isnull().sum())\n",
        "\n"
      ]
    },
    {
      "cell_type": "code",
      "source": [
        "# Descriptive Statistics:\n",
        "print(df.describe())\n",
        "print(\"The range of salaries is = \", df['TotalPay'].max() - df['TotalPay'].min())"
      ],
      "metadata": {
        "colab": {
          "base_uri": "https://localhost:8080/"
        },
        "id": "-AoNyCyUj8Gq",
        "outputId": "e488a8bf-3d68-4d13-acb0-13e2c82fb79c"
      },
      "execution_count": 8,
      "outputs": [
        {
          "output_type": "stream",
          "name": "stdout",
          "text": [
            "                  Id        BasePay    OvertimePay       OtherPay  \\\n",
            "count  148654.000000  148045.000000  148650.000000  148650.000000   \n",
            "mean    74327.500000   66325.448840    5066.059886    3648.767297   \n",
            "std     42912.857795   42764.635495   11454.380559    8056.601866   \n",
            "min         1.000000    -166.010000      -0.010000   -7058.590000   \n",
            "25%     37164.250000   33588.200000       0.000000       0.000000   \n",
            "50%     74327.500000   65007.450000       0.000000     811.270000   \n",
            "75%    111490.750000   94691.050000    4658.175000    4236.065000   \n",
            "max    148654.000000  319275.010000  245131.880000  400184.250000   \n",
            "\n",
            "            Benefits       TotalPay  TotalPayBenefits           Year  Notes  \\\n",
            "count  112491.000000  148654.000000     148654.000000  148654.000000    0.0   \n",
            "mean    25007.893151   74768.321972      93692.554811    2012.522643    NaN   \n",
            "std     15402.215858   50517.005274      62793.533483       1.117538    NaN   \n",
            "min       -33.890000    -618.130000       -618.130000    2011.000000    NaN   \n",
            "25%     11535.395000   36168.995000      44065.650000    2012.000000    NaN   \n",
            "50%     28628.620000   71426.610000      92404.090000    2013.000000    NaN   \n",
            "75%     35566.855000  105839.135000     132876.450000    2014.000000    NaN   \n",
            "max     96570.660000  567595.430000     567595.430000    2014.000000    NaN   \n",
            "\n",
            "       Status  \n",
            "count     0.0  \n",
            "mean      NaN  \n",
            "std       NaN  \n",
            "min       NaN  \n",
            "25%       NaN  \n",
            "50%       NaN  \n",
            "75%       NaN  \n",
            "max       NaN  \n",
            "The range of salaries is =  568213.56\n"
          ]
        }
      ]
    },
    {
      "cell_type": "code",
      "source": [
        "# Data Cleaning:\n",
        "ColumnsToDrop = ['Notes', 'Status']\n",
        "CleanedData = df.drop(ColumnsToDrop, axis=1)\n",
        "MeanValues = df.mean()\n",
        "NoNanDf = CleanedData.fillna(MeanValues)\n",
        "print(NoNanDf)"
      ],
      "metadata": {
        "colab": {
          "base_uri": "https://localhost:8080/"
        },
        "id": "srWW0pXSkHhj",
        "outputId": "434c585e-4dd0-48b6-e32f-e780e15cb96f"
      },
      "execution_count": 9,
      "outputs": [
        {
          "output_type": "stream",
          "name": "stdout",
          "text": [
            "            Id       EmployeeName  \\\n",
            "0            1     NATHANIEL FORD   \n",
            "1            2       GARY JIMENEZ   \n",
            "2            3     ALBERT PARDINI   \n",
            "3            4  CHRISTOPHER CHONG   \n",
            "4            5    PATRICK GARDNER   \n",
            "...        ...                ...   \n",
            "148649  148650      Roy I Tillery   \n",
            "148650  148651       Not provided   \n",
            "148651  148652       Not provided   \n",
            "148652  148653       Not provided   \n",
            "148653  148654          Joe Lopez   \n",
            "\n",
            "                                              JobTitle       BasePay  \\\n",
            "0       GENERAL MANAGER-METROPOLITAN TRANSIT AUTHORITY  167411.18000   \n",
            "1                      CAPTAIN III (POLICE DEPARTMENT)  155966.02000   \n",
            "2                      CAPTAIN III (POLICE DEPARTMENT)  212739.13000   \n",
            "3                 WIRE ROPE CABLE MAINTENANCE MECHANIC   77916.00000   \n",
            "4         DEPUTY CHIEF OF DEPARTMENT,(FIRE DEPARTMENT)  134401.60000   \n",
            "...                                                ...           ...   \n",
            "148649                                       Custodian       0.00000   \n",
            "148650                                    Not provided   66325.44884   \n",
            "148651                                    Not provided   66325.44884   \n",
            "148652                                    Not provided   66325.44884   \n",
            "148653                      Counselor, Log Cabin Ranch       0.00000   \n",
            "\n",
            "          OvertimePay       OtherPay      Benefits   TotalPay  \\\n",
            "0            0.000000  400184.250000  25007.893151  567595.43   \n",
            "1       245131.880000  137811.380000  25007.893151  538909.28   \n",
            "2       106088.180000   16452.600000  25007.893151  335279.91   \n",
            "3        56120.710000  198306.900000  25007.893151  332343.61   \n",
            "4         9737.000000  182234.590000  25007.893151  326373.19   \n",
            "...               ...            ...           ...        ...   \n",
            "148649       0.000000       0.000000      0.000000       0.00   \n",
            "148650    5066.059886    3648.767297  25007.893151       0.00   \n",
            "148651    5066.059886    3648.767297  25007.893151       0.00   \n",
            "148652    5066.059886    3648.767297  25007.893151       0.00   \n",
            "148653       0.000000    -618.130000      0.000000    -618.13   \n",
            "\n",
            "        TotalPayBenefits  Year         Agency  \n",
            "0              567595.43  2011  San Francisco  \n",
            "1              538909.28  2011  San Francisco  \n",
            "2              335279.91  2011  San Francisco  \n",
            "3              332343.61  2011  San Francisco  \n",
            "4              326373.19  2011  San Francisco  \n",
            "...                  ...   ...            ...  \n",
            "148649              0.00  2014  San Francisco  \n",
            "148650              0.00  2014  San Francisco  \n",
            "148651              0.00  2014  San Francisco  \n",
            "148652              0.00  2014  San Francisco  \n",
            "148653           -618.13  2014  San Francisco  \n",
            "\n",
            "[148654 rows x 11 columns]\n"
          ]
        },
        {
          "output_type": "stream",
          "name": "stderr",
          "text": [
            "<ipython-input-9-d6f9a023e6aa>:4: FutureWarning: The default value of numeric_only in DataFrame.mean is deprecated. In a future version, it will default to False. In addition, specifying 'numeric_only=None' is deprecated. Select only valid columns or specify the value of numeric_only to silence this warning.\n",
            "  MeanValues = df.mean()\n"
          ]
        }
      ]
    },
    {
      "cell_type": "code",
      "source": [
        "# Basic Data Visualization:\n",
        "#Histogram\n",
        "import matplotlib.pyplot as plt\n",
        "plt.figure(figsize=(12, 8))\n",
        "plt.hist(NoNanDf['TotalPay'], bins=10, color='cyan')\n",
        "plt.xlabel('Total Pay')\n",
        "plt.ylabel('Frequency')\n",
        "plt.title('Distribution of Salaries')\n",
        "plt.show()"
      ],
      "metadata": {
        "colab": {
          "base_uri": "https://localhost:8080/",
          "height": 718
        },
        "id": "Oql8PQPfkUKv",
        "outputId": "384be30a-3aa2-4929-a6b4-c0f2b1186261"
      },
      "execution_count": 10,
      "outputs": [
        {
          "output_type": "display_data",
          "data": {
            "text/plain": [
              "<Figure size 1200x800 with 1 Axes>"
            ],
            "image/png": "[encoded data removed]"
          },
          "metadata": {}
        }
      ]
    },
    {
      "cell_type": "code",
      "source": [
        "#Pie Chart\n",
        "plt.figure(figsize=(500, 500))\n",
        "DeoartmentCounts = NoNanDf['JobTitle'].value_counts()\n",
        "plt.pie(DeoartmentCounts, labels=DeoartmentCounts.index, autopct='%1.1f%%')\n",
        "plt.title('Proportion of Employees in Different Departments')\n",
        "plt.show()"
      ],
      "metadata": {
        "id": "OsQbCFKLkZz4"
      },
      "execution_count": null,
      "outputs": []
    },
    {
      "cell_type": "code",
      "source": [
        "# Grouped Analysis:\n",
        "SummaryStatistics = NoNanDf.groupby('JobTitle').agg(['mean', 'median', 'min', 'max', 'std'])\n",
        "print(SummaryStatistics)\n",
        "DepartmentSalaryAvg = NoNanDf.groupby('JobTitle')['TotalPay'].mean()\n",
        "print(\"Average salary by department:\", DepartmentSalaryAvg)"
      ],
      "metadata": {
        "id": "V18L1tQxkema"
      },
      "execution_count": null,
      "outputs": []
    },
    {
      "cell_type": "code",
      "source": [
        "# Simple Correlation Analysis:\n",
        "Correlation = NoNanDf['TotalPay'].corr(NoNanDf['OtherPay'])\n",
        "print(\"Correlation between TotalPay and OtherPay:\", Correlation)\n",
        "plt.figure(figsize=(20, 20))\n",
        "plt.scatter(NoNanDf['OtherPay'], NoNanDf['TotalPay'], alpha=0.5)\n",
        "plt.xlabel('Other Pay')\n",
        "plt.ylabel('Total Pay')\n",
        "plt.title('Scatter Plot of Total Pay vs Other Pay')\n",
        "plt.show()"
      ],
      "metadata": {
        "id": "pZ2eHYYzkikC"
      },
      "execution_count": null,
      "outputs": []
    },
    {
      "cell_type": "code",
      "source": [
        "# Summary of Insights:\n",
        "'''1. Basic Data Exploration:\n",
        "- The dataset contains information about employees' salaries, job titles, and other related attributes.\n",
        "- Upon initial exploration, we found that there are 148654 rows and 13 columns in the dataset.\n",
        "- The data types of each column are\n",
        "(JobTitle    :         object,\n",
        "BasePay      :       float64,\n",
        "OvertimePay   :      float64,\n",
        "OtherPay      :      float64,\n",
        "Benefits      :      float64,\n",
        "TotalPay      :      float64,\n",
        "TotalPayBenefits  :  float64,\n",
        "Year         :         int64,\n",
        "Notes         :      float64,\n",
        "Agency         :      object,\n",
        "Status        :      float64).\n",
        "- There are 334,088 missing values across the dataset, which were handled by doping the all-Nan columns and filling the other Nan data in other columns with its mean\n",
        "2. Descriptive Statistics:\n",
        "- The mean salary across all employees is approximately 74768.321972.\n",
        "- The range of salaries varies from -618.130000 to 567595.430000.\n",
        "- The standard deviation of salaries is 50517.005274 .\n",
        "3. Grouped Analysis:\n",
        "- After grouping the data by job titles, we observed variations in average salaries among different job titles.\n",
        "- Job titles such as (ACUPUNCTURIST) tend to have higher average salaries compared to others.\n",
        "4. Simple Correlation Analysis:\n",
        "- The correlation coefficient between ['OtherPay'] and ['TotalPay'] is approximately 0.4704820338291609.\n",
        "- This indicates a moderate positive correlation between ['OtherPay'] and salary.\n",
        "5. Basic Data Visualization:\n",
        "- Histograms and bar charts were used to visualize the distribution of salaries and proportions of employees in different departments, respectively.\n",
        "- The pie chart provided an overview of the proportion of employees in various departments.'''\n"
      ],
      "metadata": {
        "id": "SO0cKoG-kwpA"
      },
      "execution_count": null,
      "outputs": []
    }
  ]
}
